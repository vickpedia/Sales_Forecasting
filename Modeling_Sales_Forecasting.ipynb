{
 "cells": [
  {
   "cell_type": "code",
   "execution_count": 10,
   "id": "60d7481e-4647-41ef-9270-93a516a07c26",
   "metadata": {},
   "outputs": [],
   "source": [
    "import pandas as pd\n",
    "from prophet import Prophet\n",
    "import joblib\n",
    "import os\n"
   ]
  },
  {
   "cell_type": "code",
   "execution_count": 11,
   "id": "76edcfd1-ed85-4b49-9c88-fc1a2a6e84dd",
   "metadata": {},
   "outputs": [],
   "source": [
    "df = pd.read_csv(\"Assessment-2-Associate-DS(in).csv\")\n",
    "df.rename(columns={'SerailNum': 'SerialNum'}, inplace=True)\n",
    "df['weekend_date'] = pd.to_datetime(df['weekend_date'], dayfirst=True, errors='coerce')\n",
    "df.dropna(subset=['weekend_date'], inplace=True)\n"
   ]
  },
  {
   "cell_type": "code",
   "execution_count": 12,
   "id": "f11130ce-2ee2-4ae2-b58d-2f464398c614",
   "metadata": {},
   "outputs": [
    {
     "name": "stdout",
     "output_type": "stream",
     "text": [
      "\n",
      "🔧 Processing SerialNum: 1\n"
     ]
    },
    {
     "name": "stderr",
     "output_type": "stream",
     "text": [
      "18:33:42 - cmdstanpy - INFO - Chain [1] start processing\n",
      "18:33:42 - cmdstanpy - INFO - Chain [1] done processing\n",
      "18:33:43 - cmdstanpy - INFO - Chain [1] start processing\n"
     ]
    },
    {
     "name": "stdout",
     "output_type": "stream",
     "text": [
      "\n",
      "🔧 Processing SerialNum: 5\n"
     ]
    },
    {
     "name": "stderr",
     "output_type": "stream",
     "text": [
      "18:33:43 - cmdstanpy - INFO - Chain [1] done processing\n",
      "18:33:43 - cmdstanpy - INFO - Chain [1] start processing\n"
     ]
    },
    {
     "name": "stdout",
     "output_type": "stream",
     "text": [
      "\n",
      "🔧 Processing SerialNum: 2\n"
     ]
    },
    {
     "name": "stderr",
     "output_type": "stream",
     "text": [
      "18:33:43 - cmdstanpy - INFO - Chain [1] done processing\n",
      "18:33:44 - cmdstanpy - INFO - Chain [1] start processing\n"
     ]
    },
    {
     "name": "stdout",
     "output_type": "stream",
     "text": [
      "\n",
      "🔧 Processing SerialNum: 4\n"
     ]
    },
    {
     "name": "stderr",
     "output_type": "stream",
     "text": [
      "18:33:44 - cmdstanpy - INFO - Chain [1] done processing\n"
     ]
    }
   ],
   "source": [
    "os.makedirs(\"saved_models\", exist_ok=True)\n",
    "forecast_results = []\n",
    "accuracy_results = []\n",
    "\n",
    "for serial in df['SerialNum'].unique():\n",
    "    print(f\"\\n🔧 Processing SerialNum: {serial}\")\n",
    "\n",
    "    product_df = df[df['SerialNum'] == serial][['weekend_date', 'quantity']].copy()\n",
    "    product_df.rename(columns={'weekend_date': 'ds', 'quantity': 'y'}, inplace=True)\n",
    "    product_df.sort_values('ds', inplace=True)\n",
    "\n",
    "    train = product_df[product_df['ds'] < '2024-06-01']\n",
    "    valid = product_df[(product_df['ds'] >= '2024-06-01') & (product_df['ds'] <= '2024-08-31')]\n",
    "\n",
    "    model = Prophet(weekly_seasonality=True, yearly_seasonality=True)\n",
    "    model.fit(train)\n",
    "\n",
    "    future_valid = model.make_future_dataframe(periods=len(valid), freq='W')\n",
    "    forecast_valid = model.predict(future_valid)\n",
    "\n",
    "    valid_forecast = forecast_valid[['ds', 'yhat']].set_index('ds').join(valid.set_index('ds'))\n",
    "    valid_forecast.reset_index(inplace=True)\n",
    "    valid_forecast.dropna(inplace=True)\n",
    "\n",
    "    valid_forecast['month'] = valid_forecast['ds'].dt.month\n",
    "    monthly_accuracy = (\n",
    "        valid_forecast.groupby('month')[['yhat', 'y']]\n",
    "        .apply(lambda x: 1 - (abs(x['yhat'] - x['y']).sum() / x['y'].sum()))\n",
    "    )\n",
    "\n",
    "    for month, acc in monthly_accuracy.items():\n",
    "        accuracy_results.append({'SerialNum': serial, 'Month': month, 'Accuracy': round(acc, 4)})\n",
    "\n",
    "    future_3mo = model.make_future_dataframe(periods=13, freq='W')\n",
    "    forecast_3mo = model.predict(future_3mo).tail(13)\n",
    "    forecast_3mo = forecast_3mo[['ds', 'yhat']].rename(columns={'ds': 'weekend_date', 'yhat': 'forecast_quantity'})\n",
    "    forecast_3mo['SerialNum'] = serial\n",
    "    forecast_results.append(forecast_3mo)\n",
    "\n",
    "    joblib.dump(model, f\"saved_models/prophet_serial_{serial}.pkl\")\n"
   ]
  },
  {
   "cell_type": "code",
   "execution_count": 13,
   "id": "4c7ea1e6-6750-4c3b-9706-7926c5c0261d",
   "metadata": {},
   "outputs": [],
   "source": [
    "forecast_df = pd.concat(forecast_results).reset_index(drop=True)\n",
    "accuracy_df = pd.DataFrame(accuracy_results)\n",
    "\n",
    "forecast_df.to_csv(\"forecast_sept_nov_all_products.csv\", index=False)\n",
    "accuracy_df.to_csv(\"monthly_accuracy_jun_aug_all_products.csv\", index=False)\n"
   ]
  },
  {
   "cell_type": "markdown",
   "id": "cc554ae1-0b65-4740-8fe9-9e717fa1145f",
   "metadata": {},
   "source": [
    "## 🧠 Modeling Summary\n",
    "- Prophet model trained per `SerialNum` on historical weekly sales.\n",
    "- Validation performed on Jun–Aug 2024 using absolute percentage accuracy.\n",
    "- Forecasts generated for Sept–Nov 2024.\n",
    "- Models saved for reproducibility (`.pkl` per product).\n"
   ]
  },
  {
   "cell_type": "code",
   "execution_count": null,
   "id": "a0e62878-6322-4e12-84fc-4cd865dc7d9e",
   "metadata": {},
   "outputs": [],
   "source": []
  }
 ],
 "metadata": {
  "kernelspec": {
   "display_name": "Python 3 (ipykernel)",
   "language": "python",
   "name": "python3"
  },
  "language_info": {
   "codemirror_mode": {
    "name": "ipython",
    "version": 3
   },
   "file_extension": ".py",
   "mimetype": "text/x-python",
   "name": "python",
   "nbconvert_exporter": "python",
   "pygments_lexer": "ipython3",
   "version": "3.12.7"
  }
 },
 "nbformat": 4,
 "nbformat_minor": 5
}
